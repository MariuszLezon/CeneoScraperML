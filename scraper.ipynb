{
 "cells": [
  {
   "cell_type": "markdown",
   "metadata": {},
   "source": [
    "Ceneo Scraper "
   ]
  },
  {
   "cell_type": "markdown",
   "metadata": {},
   "source": [
    "## Import bibliotek "
   ]
  },
  {
   "cell_type": "code",
   "execution_count": null,
   "metadata": {},
   "outputs": [],
   "source": [
    "import requests \n",
    "from bs4 import BeautifulSoup"
   ]
  },
  {
   "cell_type": "markdown",
   "metadata": {},
   "source": [
    "## strona produktu\n"
   ]
  },
  {
   "cell_type": "code",
   "execution_count": null,
   "metadata": {},
   "outputs": [],
   "source": [
    "produkt_id = \"84514582\"\n",
    "url = f\"https://www.ceneo.pl/{produkt_id}#tab=reviews\"\n"
   ]
  },
  {
   "cell_type": "markdown",
   "metadata": {},
   "source": [
    "## wysyłanie zadania dostepu do zasobu"
   ]
  },
  {
   "cell_type": "code",
   "execution_count": null,
   "metadata": {},
   "outputs": [],
   "source": [
    "response = requests.get(url)\n",
    "response.status_code\n"
   ]
  },
  {
   "cell_type": "markdown",
   "metadata": {},
   "source": []
  },
  {
   "cell_type": "markdown",
   "metadata": {},
   "source": []
  },
  {
   "cell_type": "markdown",
   "metadata": {},
   "source": [
    "4.Pobieranie opinii"
   ]
  },
  {
   "cell_type": "code",
   "execution_count": null,
   "metadata": {},
   "outputs": [],
   "source": [
    "page = BeautifulSoup(response.text, \"html.parser\")\n",
    "opinions = page.select(\"div.js_product-review\")\n",
    "opinion = page.select_one(\"div.js_product-review\")\n",
    "print(type(opinions))\n",
    "print(type(opinion))\n",
    "print(opinion)"
   ]
  },
  {
   "cell_type": "markdown",
   "metadata": {},
   "source": [
    "5.Pobieranie składowych pojedynczej opinii"
   ]
  },
  {
   "cell_type": "markdown",
   "metadata": {},
   "source": [
    "|składowa|zmienna|selektor|\n",
    "|--------|-------|--------|\n",
    "|identyfikator opinii|opinion_id|[\"data-entry-id\"]|\n",
    "|autora|author|span.user-post__author-name|\n",
    "|rekomendację|recomendation|span.user-post__author-recomendation > em|\n",
    "|liczbę gwiazdek|rating|span.user-post__score-count|\n",
    "|treść opinii|content|span.user-post__text|\n",
    "|listę zalet|pros|div.review-feature_title--positives ~ div.review-future__item|\n",
    "|listę wad|cons|div.review-feature_title--negatives ~ div.review-future__item|\n",
    "|data wystawienia opinii|opinion_date|span.user-post__published > time:nth-child(1)[\"datatime\"]|\n",
    "|data zakupu produktu|purchase_date|span.user-post__published > time:nth-child(2)[\"datatime\"]|\n",
    "|ile osób uznało opinię za przydatną|likes|button.votye-yes > span|\n",
    "|ile osób uznało opinię za nieprzydatną|dislikes|button.vote-no > span|"
   ]
  },
  {
   "cell_type": "code",
   "execution_count": null,
   "metadata": {},
   "outputs": [],
   "source": [
    "author = opinion.select_one(\"span.user-post__author-name\").get_text().strip()\n",
    "\n",
    "recomendation = opinion.select_one(\"span.user-post__author-recomendation > em\").get_text().strip()\n",
    "\n",
    "rating = opinion.select_one(\"span.user-post__score-count\").get_text().strip()\n",
    "\n",
    "content = opinion.select_one(\"span.user-post__text\").get_text().strip()\n",
    "\n",
    "pros = [p.get_text().stip for p in opinion.select(\"div.review-feature_title--positives ~ div.review-future__item\")]\n",
    "\n",
    "cons = [c.get_text().stip for c in opinion.select(\"div.review-feature_title--negatives ~ div.review-future__item\")]\n",
    "\n",
    "opinion_date = opinion.select_one(\"span.user-post__published > time:nth-child(1)\")[\"datatime\"].strip()\n",
    "\n",
    "purchase_date = opinion.select_one(\"span.user-post__published > time:nth-child(2)\")[\"datatime\"].strip()\n",
    "\n",
    "likes = opinion.select_one(\"button.votye-yes > span\").get_text().strip()\n",
    "\n",
    "dislikes = opinion.select_one(\"button.vote-no > span\").get_text().strip()\n",
    "\n",
    "opinion_id = opinion.select_one[\"data-entry-id\"].strip()\n",
    "\n",
    "\n",
    "pros_list = []\n",
    "for p in pros_list:\n"
   ]
  }
 ],
 "metadata": {
  "kernelspec": {
   "display_name": ".venv",
   "language": "python",
   "name": "python3"
  },
  "language_info": {
   "codemirror_mode": {
    "name": "ipython",
    "version": 3
   },
   "file_extension": ".py",
   "mimetype": "text/x-python",
   "name": "python",
   "nbconvert_exporter": "python",
   "pygments_lexer": "ipython3",
   "version": "3.11.4"
  }
 },
 "nbformat": 4,
 "nbformat_minor": 2
}
